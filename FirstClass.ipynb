{
 "metadata": {
  "name": ""
 },
 "nbformat": 3,
 "nbformat_minor": 0,
 "worksheets": [
  {
   "cells": [
    {
     "cell_type": "markdown",
     "metadata": {},
     "source": [
      "<style>\n",
      "body {\n",
      "    background-color: #ddffff;\n",
      "}\n",
      "</style>"
     ]
    },
    {
     "cell_type": "code",
     "collapsed": false,
     "input": [
      "import sys\n",
      "sys.version"
     ],
     "language": "python",
     "metadata": {},
     "outputs": [
      {
       "metadata": {},
       "output_type": "pyout",
       "prompt_number": 1,
       "text": [
        "'2.7.5 |Anaconda 1.8.0 (64-bit)| (default, Nov  4 2013, 15:30:26) \\n[GCC 4.1.2 20080704 (Red Hat 4.1.2-54)]'"
       ]
      }
     ],
     "prompt_number": 1
    },
    {
     "cell_type": "markdown",
     "metadata": {},
     "source": [
      "# Head1\n",
      "## Head2\n",
      "### Head3\n",
      "###### Head6"
     ]
    },
    {
     "cell_type": "markdown",
     "metadata": {},
     "source": [
      "Head1:\n",
      "======\n",
      "\n",
      "Head2:\n",
      "------"
     ]
    },
    {
     "cell_type": "markdown",
     "metadata": {},
     "source": [
      "- **Bold**\n",
      "- *it*\n",
      "    - line1\n",
      "    - line2\n",
      "    - line3\n",
      "        - a\n",
      "        - b\n",
      "        - c\n",
      "            1. abc\n",
      "            2. def\n",
      "            3. gh"
     ]
    },
    {
     "cell_type": "code",
     "collapsed": false,
     "input": [],
     "language": "python",
     "metadata": {},
     "outputs": [],
     "prompt_number": 1
    },
    {
     "cell_type": "code",
     "collapsed": false,
     "input": [],
     "language": "python",
     "metadata": {},
     "outputs": [],
     "prompt_number": 1
    },
    {
     "cell_type": "code",
     "collapsed": false,
     "input": [],
     "language": "python",
     "metadata": {},
     "outputs": [],
     "prompt_number": 1
    },
    {
     "cell_type": "code",
     "collapsed": false,
     "input": [],
     "language": "python",
     "metadata": {},
     "outputs": [],
     "prompt_number": 1
    },
    {
     "cell_type": "code",
     "collapsed": false,
     "input": [],
     "language": "python",
     "metadata": {},
     "outputs": []
    }
   ],
   "metadata": {}
  }
 ]
}